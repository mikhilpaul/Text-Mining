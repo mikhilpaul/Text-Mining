{
 "cells": [
  {
   "cell_type": "markdown",
   "metadata": {},
   "source": [
    "# Text Analytics on #Shutdown"
   ]
  },
  {
   "cell_type": "markdown",
   "metadata": {},
   "source": [
    "#### Objectives :-\n",
    "* Learn to load JSON data values corresponding to specific key values.\n",
    "* Use RegEx to remove unwanted characters and to clean the data before analyzing.\n",
    "* Feautre extraction and their respective occurence counts via Binary, Count and TF-IDF Vectorizers.\n",
    "* Using Vectorization to find popular hashtags and usernames.\n",
    "* Reducing the set of features to 2D via SVD to effectively find interesting patters from data.\n",
    "* Perform Co-occurence analysis using Binary Vectorization by computing Dot product between features."
   ]
  },
  {
   "cell_type": "markdown",
   "metadata": {},
   "source": [
    "Loading JSON File:"
   ]
  },
  {
   "cell_type": "code",
   "execution_count": 1,
   "metadata": {
    "collapsed": true
   },
   "outputs": [],
   "source": [
    "import json\n",
    "import numpy as np\n",
    "\n",
    "file = open(r\"C:\\Users\\Mikhil Paul\\Desktop\\Text Analytics\\HomeWork 1\\shutdown.json\")\n",
    "js = json.load(file)\n"
   ]
  },
  {
   "cell_type": "markdown",
   "metadata": {},
   "source": [
    "Load all retweet ids and Tweet Texts:"
   ]
  },
  {
   "cell_type": "code",
   "execution_count": 2,
   "metadata": {
    "collapsed": true
   },
   "outputs": [],
   "source": [
    "retweet_id=[]\n",
    "tweet=[]\n",
    "#load retweet IDs\n",
    "for i in range(len(js)):\n",
    "    if \"retweeted_status\" in js[i]:\n",
    "        retweet_id.append(js[i][\"retweeted_status\"][\"user\"][\"screen_name\"])\n",
    "\n",
    "#load Tweet Texts\n",
    "for i in range(len(js)):\n",
    "    tweet.append(js[i][\"text\"])\n",
    "\n"
   ]
  },
  {
   "cell_type": "markdown",
   "metadata": {},
   "source": [
    "#### Q1) What are the top 5 most popular retweet usernames?"
   ]
  },
  {
   "cell_type": "code",
   "execution_count": 6,
   "metadata": {},
   "outputs": [
    {
     "name": "stdout",
     "output_type": "stream",
     "text": [
      "['foxnews' 'sendougjones' 'peterdaou' 'thedailyedge' 'banditrandom']\n"
     ]
    }
   ],
   "source": [
    "from sklearn.feature_extraction.text import CountVectorizer\n",
    "\n",
    "count = CountVectorizer(binary = True)\n",
    "X = count.fit_transform(retweet_id)\n",
    "unique_id = np.array(count.get_feature_names())\n",
    "\n",
    "freq = X.sum(0).A1\n",
    "order = freq.argsort()[::-1]\n",
    "print(unique_id[order[:5]])\n"
   ]
  },
  {
   "cell_type": "markdown",
   "metadata": {},
   "source": [
    "#### Q2) Remove duplicate tweets. How many tweets are remained?"
   ]
  },
  {
   "cell_type": "code",
   "execution_count": 3,
   "metadata": {},
   "outputs": [
    {
     "name": "stdout",
     "output_type": "stream",
     "text": [
      "Total number of Tweet Texts: 5000\n",
      "Total number of unique Tweet Texts: 919\n",
      "\n",
      " First 5 Unique Tweet Texts are: -\n",
      "\n",
      " [ 'Dear republicans/Trump supporters: Enough with the \"democrats don\\'t care about the military\" BS. Compare our milita… https://t.co/aFH3xmaR77'\n",
      " 'RT @FoxNews: .@SebGorka: \"@TheDemocrats say illegal immigrants are the priority over Americans and that\\'s just shameful.\" #shutdown https:/…'\n",
      " \"RT @FoxNews: BREAKING NEWS: #Shutdown enters third day as @SenateMajLdr calls for bipartisan compromise: 'Step back from the brink'\\nhttps:/…\"\n",
      " 'RT @TheDailyEdge: Trump allowed the government to #shutdown to distract from the news he had unprotected sex with a porn star while Melania…'\n",
      " 'RT @peterdaou: Summing up the #shutdown in ten words:\\n\\nDemocratic lawmakers want to protect children.\\nRepublican lawmakers do not.\\n\\n#CHIP #…']\n"
     ]
    }
   ],
   "source": [
    "print(\"Total number of Tweet Texts:\",len(tweet))\n",
    "print(\"Total number of unique Tweet Texts:\",len(np.unique(tweet)))\n",
    "print(\"\\n First 5 Unique Tweet Texts are: -\\n\\n\",np.unique(tweet[:5]))\n"
   ]
  },
  {
   "cell_type": "markdown",
   "metadata": {},
   "source": [
    "Obtain Unique tweets"
   ]
  },
  {
   "cell_type": "code",
   "execution_count": 4,
   "metadata": {
    "collapsed": true
   },
   "outputs": [],
   "source": [
    "unique_tweet=[]\n",
    "unique_tweet = np.unique(tweet)\n"
   ]
  },
  {
   "cell_type": "markdown",
   "metadata": {},
   "source": [
    "#### Q3.) Remove URLs and mentions and rename hashtag sign to ‘hashtag_’"
   ]
  },
  {
   "cell_type": "code",
   "execution_count": 5,
   "metadata": {},
   "outputs": [
    {
     "data": {
      "text/plain": [
       "['\"Democrats Use \"   hashtag_BalancedBudget  hashtag_Budget  hashtag_ChuckSchumer  hashtag_ContinuingResolution… ',\n",
       " '\"Thank you for calling the Shite House Unfortunately, we cannot let you poop today because libtards took a huge du… ',\n",
       " '\"Trump addressing a grinning coterie of staffers in the White House upper press office, which is exactly where you… ',\n",
       " 'hashtag_BREAKING Gov’t  hashtag_shutdown continues into third day w/ Senate agreeing tonight to a procedural vote to break filibus… ',\n",
       " 'hashtag_BREAKING US Government will remain shutdown into Monday and schedule vote in Senate on Monday at noonEST  hashtag_shutdown']"
      ]
     },
     "execution_count": 5,
     "metadata": {},
     "output_type": "execute_result"
    }
   ],
   "source": [
    "import re\n",
    "\n",
    "regexp_url = 'http[s]?://(?:[a-zA-Z]|[0-9]|[$-_@.&+]|[!*\\(\\),]|(?:%[0-9a-fA-F][0-9a-fA-F]))+'\n",
    "pattern_url = re.compile(regexp_url, re.UNICODE | re.IGNORECASE)\n",
    "\n",
    "regexp_hashtag = '(?<=^|(?<=[^a-zA-Z0-9-_\\.]))#([A-Za-z]+[A-Za-z0-9]+)'\n",
    "pattern_hashtag = re.compile(regexp_hashtag, re.UNICODE | re.IGNORECASE)\n",
    "\n",
    "regexp_mention = '(?<=^|(?<=[^a-zA-Z0-9-_\\.]))@([A-Za-z0-9_]+[A-Za-z0-9_]+)'\n",
    "pattern_mention = re.compile(regexp_mention, re.UNICODE | re.IGNORECASE)\n",
    "\n",
    "def preprocess(text):\n",
    "    #Remove URLs \n",
    "    temp = pattern_url.sub('',text)\n",
    "    #Remove intermediate periods to better detect mentions\n",
    "    temp = re.sub('\\.(?!$)', '',temp)\n",
    "    #Remove Mentions\n",
    "    temp = pattern_mention.sub('',temp)\n",
    "    #Replace hashtags\n",
    "    temp = pattern_hashtag.sub(r' hashtag_\\1',temp)\n",
    "    #Removing \\n RT : and leading spaces\n",
    "    temp = temp.replace('\\n','')\n",
    "    temp = re.sub('^RT','',temp)\n",
    "    temp = re.sub(':','',temp)\n",
    "    temp = temp.lstrip(' ')\n",
    "    return temp\n",
    "\n",
    "preprocess_tweet =[]\n",
    "for i in range(len(unique_tweet)):\n",
    "    preprocess_tweet.append(preprocess(unique_tweet[i]))\n",
    "\n",
    "preprocess_tweet[:5]"
   ]
  },
  {
   "cell_type": "markdown",
   "metadata": {},
   "source": [
    "#### Q3) What are top 5 popular hashtags?"
   ]
  },
  {
   "cell_type": "code",
   "execution_count": 6,
   "metadata": {},
   "outputs": [
    {
     "name": "stdout",
     "output_type": "stream",
     "text": [
      "['hashtag_shutdown' 'hashtag_trumpshutdown' 'hashtag_trump'\n",
      " 'hashtag_schumershutdown' 'hashtag_daca']\n"
     ]
    }
   ],
   "source": [
    "from sklearn.feature_extraction.text import CountVectorizer, TfidfVectorizer\n",
    "\n",
    "bcount = CountVectorizer(binary = True)\n",
    "Y = bcount.fit_transform(preprocess_tweet)\n",
    "\n",
    "hashtags = np.array(bcount.get_feature_names())\n",
    "indices = [i for i,item in enumerate(hashtags) if \"hashtag\" in item]\n",
    "freq = Y[:,indices].sum(0).A1\n",
    "order = freq.argsort()[::-1]\n",
    "new = hashtags[indices]\n",
    "print(new[order[:5]])\n"
   ]
  },
  {
   "cell_type": "markdown",
   "metadata": {},
   "source": [
    "#### Q.4) Plot using Binary Vectorization"
   ]
  },
  {
   "cell_type": "code",
   "execution_count": 7,
   "metadata": {
    "scrolled": true
   },
   "outputs": [
    {
     "name": "stdout",
     "output_type": "stream",
     "text": [
      "Dimension (919, 2849) -> (919, 2)\n"
     ]
    },
    {
     "data": {
      "image/png": "[encoded data removed]",
      "text/plain": [
       "<matplotlib.figure.Figure at 0x20db49bf438>"
      ]
     },
     "metadata": {},
     "output_type": "display_data"
    }
   ],
   "source": [
    "import matplotlib\n",
    "import matplotlib.pyplot as plt\n",
    "%matplotlib inline\n",
    "\n",
    "from sklearn.decomposition import TruncatedSVD\n",
    "vect = CountVectorizer(binary = True, stop_words = 'english')\n",
    "fit = vect.fit_transform(preprocess_tweet)\n",
    "\n",
    "lsa = TruncatedSVD(2)\n",
    "fit_2d = lsa.fit_transform(fit)\n",
    "\n",
    "print(\"Dimension %s -> %s\" % (fit.shape,fit_2d.shape))\n",
    "\n",
    "plt.scatter(fit_2d[:,1],fit_2d[:,0])\n",
    "plt.title(\"Using Binary Vectorization\")\n",
    "plt.show()\n",
    "\n"
   ]
  },
  {
   "cell_type": "markdown",
   "metadata": {},
   "source": [
    "#### Analysis : -\n",
    "From the above plot its observed that there are 4 clusters of tweets that contain words with same number of occurences.\n"
   ]
  },
  {
   "cell_type": "markdown",
   "metadata": {},
   "source": [
    "#### Q.4) Plot using Count Vectorization"
   ]
  },
  {
   "cell_type": "code",
   "execution_count": 8,
   "metadata": {},
   "outputs": [
    {
     "name": "stdout",
     "output_type": "stream",
     "text": [
      "Dimension (919, 2849) -> (919, 2)\n"
     ]
    },
    {
     "data": {
      "image/png": "[encoded data removed]",
      "text/plain": [
       "<matplotlib.figure.Figure at 0x20dba260470>"
      ]
     },
     "metadata": {},
     "output_type": "display_data"
    }
   ],
   "source": [
    "import matplotlib\n",
    "import matplotlib.pyplot as plt\n",
    "%matplotlib inline\n",
    "\n",
    "from sklearn.decomposition import TruncatedSVD\n",
    "vect = CountVectorizer(binary = False, stop_words = 'english')\n",
    "fit = vect.fit_transform(preprocess_tweet)\n",
    "\n",
    "lsa = TruncatedSVD(2)\n",
    "fit_2d = lsa.fit_transform(fit)\n",
    "\n",
    "print(\"Dimension %s -> %s\" % (fit.shape,fit_2d.shape))\n",
    "\n",
    "plt.scatter(fit_2d[:,1],fit_2d[:,0],c='r')\n",
    "plt.title(\"Using Count Vectorization\")\n",
    "plt.show()"
   ]
  },
  {
   "cell_type": "markdown",
   "metadata": {},
   "source": [
    "#### Analysis : -\n",
    "As Count vectorizer gives the frequency of each word, it can be inferred from the above plot that there are mainly 4 clusters of tweets having words with similar frequencies. A few tweets can be found as outliers which can be interpretted as tweets containing words with higher or lower frequencies than the 4 clusters."
   ]
  },
  {
   "cell_type": "markdown",
   "metadata": {},
   "source": [
    "#### Q.4) Plot using TF-IDF Vectorization"
   ]
  },
  {
   "cell_type": "code",
   "execution_count": 9,
   "metadata": {},
   "outputs": [
    {
     "name": "stdout",
     "output_type": "stream",
     "text": [
      "Dimension (919, 2849) -> (919, 2)\n"
     ]
    },
    {
     "data": {
      "image/png": "[encoded data removed]",
      "text/plain": [
       "<matplotlib.figure.Figure at 0x20dba31c3c8>"
      ]
     },
     "metadata": {},
     "output_type": "display_data"
    }
   ],
   "source": [
    "import matplotlib\n",
    "import matplotlib.pyplot as plt\n",
    "%matplotlib inline\n",
    "\n",
    "from sklearn.decomposition import TruncatedSVD\n",
    "vect = TfidfVectorizer(binary = False, stop_words = 'english')\n",
    "fit = vect.fit_transform(preprocess_tweet)\n",
    "\n",
    "lsa = TruncatedSVD(2)\n",
    "fit_2d = lsa.fit_transform(fit)\n",
    "\n",
    "print(\"Dimension %s -> %s\" % (fit.shape,fit_2d.shape))\n",
    "\n",
    "plt.scatter(fit_2d[:,1],fit_2d[:,0],c='g')\n",
    "plt.title(\"Using TF-IDF Vectorization\")\n",
    "plt.show()"
   ]
  },
  {
   "cell_type": "markdown",
   "metadata": {},
   "source": [
    "#### Analysis : -\n",
    "From the above plot it can be observed that most of the tweets have words having similar frequencies which can be seen as a cluster. However, it can also be observed that there is a disperion of tweets from the cluster and a few outliers. This can be interpretted as, tweets containing words that occur less frequently across all tweets are assigned higher weights (due to TF-IDF) and are far apart from the cluster."
   ]
  },
  {
   "cell_type": "markdown",
   "metadata": {},
   "source": [
    "#### Q.5) Find which two hashtags appear together in a same tweet mostly?"
   ]
  },
  {
   "cell_type": "code",
   "execution_count": 12,
   "metadata": {
    "scrolled": true
   },
   "outputs": [
    {
     "name": "stdout",
     "output_type": "stream",
     "text": [
      "[['hashtag_shutdown' 'hashtag_trumpshutdown']]\n"
     ]
    }
   ],
   "source": [
    "co_count = CountVectorizer(binary = True, stop_words='english' )\n",
    "Z = co_count.fit_transform(preprocess_tweet)\n",
    "\n",
    "hashtag = np.array(co_count.get_feature_names())\n",
    "\n",
    "#Find indices of feature names that contain \"Hastag\" keyword\n",
    "indices = [i for i,item in enumerate(hashtag) if \"hashtag\" in item]\n",
    "\n",
    "Zc = (Z[:,indices].T * Z[:,indices])\n",
    "Zc.setdiag(0) \n",
    "\n",
    "order = np.argwhere(Zc == np.amax(Zc))\n",
    "\n",
    "new = hashtag[indices]\n",
    "\n",
    "print(np.unique(new[order]).reshape(-1,2))\n",
    "\n"
   ]
  },
  {
   "cell_type": "markdown",
   "metadata": {},
   "source": [
    "#### Q.5) Which two are the second most?"
   ]
  },
  {
   "cell_type": "code",
   "execution_count": 440,
   "metadata": {},
   "outputs": [
    {
     "name": "stdout",
     "output_type": "stream",
     "text": [
      "[['hashtag_shutdown' 'hashtag_trump']]\n"
     ]
    }
   ],
   "source": [
    "Zx = Zc\n",
    "\n",
    "#Set current max value(s) to zero to compute the 2nd highest value from the matrix\n",
    "for x in range(len(order)):\n",
    "    i = order[x][0]\n",
    "    j = order[x][1]\n",
    "    Zx[i,j] = 0\n",
    "\n",
    "\n",
    "new_order = np.argwhere(Zx == np.amax(Zx))\n",
    "\n",
    "new = hashtag[indices]\n",
    "\n",
    "print(np.unique(new[new_order]).reshape(-1,2))\n",
    "\n"
   ]
  },
  {
   "cell_type": "markdown",
   "metadata": {},
   "source": [
    "#### Analysis : -\n",
    "It can be observed that the highest and second highest co-occuring hashtag across all tweets are having the President Trump mentioned. Logically it adds up as for such a huge issue most of the tweets are asking/pointing the President to take an action/resolution."
   ]
  },
  {
   "cell_type": "markdown",
   "metadata": {},
   "source": [
    "#### Conclusion\n",
    "* From the analysis it was observed that the most popular retweet username is 'foxnews'. Being a news channel this observation makes sense as its expected for a news channel to provide updates via Twitter.\n",
    "* From the analysis on most popular hashtags it can be observed that in the given 5000 tweets the most frequently occuring hashtag is having the keyword 'Trump'. The frequency of hastag with 'Trump' is more than the tweets with keyword 'Schumer'. The hashtag 'DACA' is also popular which relates to the the current issue with respect to the US government Shutdown.\n",
    "* From the Bivariate analysis using Vectorization it can be observed that the tweets can be clustered into 4 groups.\n",
    "* Co-occurence analysis also showed that out of 5000 tweets the most popular co-occuring tweets are mentioning/pointing to President Trump."
   ]
  }
 ],
 "metadata": {
  "kernelspec": {
   "display_name": "Python 3",
   "language": "python",
   "name": "python3"
  },
  "language_info": {
   "codemirror_mode": {
    "name": "ipython",
    "version": 3
   },
   "file_extension": ".py",
   "mimetype": "text/x-python",
   "name": "python",
   "nbconvert_exporter": "python",
   "pygments_lexer": "ipython3",
   "version": "3.6.1"
  }
 },
 "nbformat": 4,
 "nbformat_minor": 2
}
