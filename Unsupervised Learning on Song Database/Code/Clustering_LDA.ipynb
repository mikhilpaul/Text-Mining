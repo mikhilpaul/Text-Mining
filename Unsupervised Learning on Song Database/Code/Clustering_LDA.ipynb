{
 "cells": [
  {
   "cell_type": "markdown",
   "metadata": {},
   "source": [
    "#### Submitted by : -\n",
    "**Name :** Mikhil Pavu Paul\n",
    "**UIN:** 656765869"
   ]
  },
  {
   "cell_type": "markdown",
   "metadata": {},
   "source": [
    "#### Q1: Load all data and vectorize it with tf-idf vectorization."
   ]
  },
  {
   "cell_type": "code",
   "execution_count": 1,
   "metadata": {
    "collapsed": true
   },
   "outputs": [],
   "source": [
    "import pandas as pd\n",
    "\n",
    "df_song = pd.read_csv(\"songdata.csv\")"
   ]
  },
  {
   "cell_type": "code",
   "execution_count": 2,
   "metadata": {},
   "outputs": [
    {
     "data": {
      "text/plain": [
       "(57650, 22557)"
      ]
     },
     "execution_count": 2,
     "metadata": {},
     "output_type": "execute_result"
    }
   ],
   "source": [
    "from sklearn.feature_extraction.text import TfidfVectorizer\n",
    "import numpy as np\n",
    "\n",
    "vect= TfidfVectorizer(min_df=5,stop_words = 'english')\n",
    "X = vect.fit_transform(df_song.text)\n",
    "X.shape"
   ]
  },
  {
   "cell_type": "code",
   "execution_count": 39,
   "metadata": {},
   "outputs": [
    {
     "data": {
      "text/plain": [
       "array([0, 2, 0, ..., 2, 0, 1])"
      ]
     },
     "execution_count": 39,
     "metadata": {},
     "output_type": "execute_result"
    }
   ],
   "source": [
    "from sklearn.cluster import KMeans\n",
    "\n",
    "kmeans = KMeans(3)\n",
    "clusters = kmeans.fit_predict(X)\n",
    "clusters"
   ]
  },
  {
   "cell_type": "code",
   "execution_count": 4,
   "metadata": {},
   "outputs": [
    {
     "data": {
      "text/plain": [
       "(array([ 37505.,      0.,      0.,      0.,      0.,   5217.,      0.,\n",
       "             0.,      0.,  14928.]),\n",
       " array([ 0. ,  0.2,  0.4,  0.6,  0.8,  1. ,  1.2,  1.4,  1.6,  1.8,  2. ]),\n",
       " <a list of 10 Patch objects>)"
      ]
     },
     "execution_count": 4,
     "metadata": {},
     "output_type": "execute_result"
    },
    {
     "data": {
      "image/png": "[encoded data removed]",
      "text/plain": [
       "<matplotlib.figure.Figure at 0x21d6a5249b0>"
      ]
     },
     "metadata": {},
     "output_type": "display_data"
    }
   ],
   "source": [
    "import matplotlib.pyplot as plt\n",
    "%matplotlib inline\n",
    "\n",
    "plt.hist(clusters)"
   ]
  },
  {
   "cell_type": "markdown",
   "metadata": {},
   "source": [
    "##### Analysis : - \n",
    "* Cluster 0 is having the most documents.\n",
    "* Cluster 2 have the second highest number of documents and cluster 1 has the least.\n",
    "* This infers that majority of the songs have similar features and they all have been clustered in cluster 0."
   ]
  },
  {
   "cell_type": "markdown",
   "metadata": {},
   "source": [
    "#### Q2: Apply a clustering algorithm with 3 clusters and find top 5 closest documents to each cluster’s centroid. Analyze your result."
   ]
  },
  {
   "cell_type": "code",
   "execution_count": 9,
   "metadata": {
    "scrolled": false
   },
   "outputs": [
    {
     "name": "stdout",
     "output_type": "stream",
     "text": [
      "Cluster: 0 \n",
      "\n",
      "                    artist                                               text\n",
      "4540                Drake  Know you've been hurt by someone else  \\nI can...\n",
      "13907           New Order  Some people get up at the break of day  \\nGott...\n",
      "27707  Christina Aguilera  Hey there boy did ya happen to know  \\nWhereve...\n",
      "17260       Reba Mcentire  Another morning, another day in your life  \\nW...\n",
      "26338        Bonnie Raitt  Told me baby  \\nYou were just too tired to try... \n",
      "\n",
      "Cluster: 1 \n",
      "\n",
      "               artist                                               text\n",
      "27550    Chris Brown  I know why you want love in the middle of the ...\n",
      "12310        Madonna  It's so hard to be someone,  \\nIt's so hard to...\n",
      "19864             U2  I talk to you  \\nYou walk away  \\nYou're still...\n",
      "1175      Beach Boys  When you say you do  \\nMakes me want to spend ...\n",
      "7060   Gloria Gaynor  Give you love, give you love  \\nI'm gonna give... \n",
      "\n",
      "Cluster: 2 \n",
      "\n",
      "                artist                                               text\n",
      "5342     Eric Clapton  You say you want everything good for me,  \\nBu...\n",
      "33148       Freestyle  Baby baby baby  \\nI've been lookin' at you loo...\n",
      "26445  Britney Spears  My friends say you're so into me  \\nAnd that y...\n",
      "41875      Little Mix  (JADE)  \\nDaddy doesn't think  \\nThat you'll b...\n",
      "41818   Lionel Richie  I look at you  \\nYou look at me  \\n(You can't ... \n",
      "\n"
     ]
    }
   ],
   "source": [
    "dist = kmeans.transform(X)\n",
    "for i in range(dist.shape[1]):\n",
    "    dist_np = np.array(dist[:,i])\n",
    "    index = np.argsort(dist_np)[:5]\n",
    "    print(\"Cluster: %d\"%i,\"\\n\\n\",pd.concat([df_song.artist.iloc[index],df_song.text.iloc[index]],axis = 1),\"\\n\")\n"
   ]
  },
  {
   "cell_type": "markdown",
   "metadata": {},
   "source": [
    "##### Analysis : -\n",
    "* From Cluster 1, its observed that lyrics contain the frequently occuring word 'Love' implying that the songs with romance theme has been captured by this cluster.\n",
    "* Other Clusters have all captured similar words used in different songs."
   ]
  },
  {
   "cell_type": "markdown",
   "metadata": {},
   "source": [
    "#### Q3: Reduce the dimension to 50 components using LSA and report top 5 features per component. Analyze your result."
   ]
  },
  {
   "cell_type": "code",
   "execution_count": 7,
   "metadata": {
    "collapsed": true
   },
   "outputs": [],
   "source": [
    "from sklearn.decomposition import TruncatedSVD\n",
    "\n",
    "lsa = TruncatedSVD(50)\n",
    "Z = lsa.fit_transform(X)\n"
   ]
  },
  {
   "cell_type": "code",
   "execution_count": 8,
   "metadata": {},
   "outputs": [
    {
     "name": "stdout",
     "output_type": "stream",
     "text": [
      "(57650, 50)\n"
     ]
    },
    {
     "data": {
      "text/plain": [
       "(50, 22557)"
      ]
     },
     "execution_count": 8,
     "metadata": {},
     "output_type": "execute_result"
    }
   ],
   "source": [
    "print(Z.shape)\n",
    "lsa.components_.shape"
   ]
  },
  {
   "cell_type": "code",
   "execution_count": 24,
   "metadata": {},
   "outputs": [
    {
     "name": "stdout",
     "output_type": "stream",
     "text": [
      "['love' 'don' 'know' 'll' 'just']\n",
      "['love' 'don' 'got' 'heart' 'gonna']\n",
      "['oh' 'baby' 'yeah' 'll' 'time']\n",
      "['oh' 'don' 'want' 'baby' 'know']\n",
      "['baby' 'don' 'oh' 'want' 'know']\n",
      "['ll' 'la' 'baby' 'got' 'yeah']\n",
      "['la' 'll' 'got' 'baby' 'yeah']\n",
      "['want' 'don' 'yeah' 'know' 've']\n",
      "['yeah' 'll' 'let' 'gonna' 'want']\n",
      "['let' 'll' 'want' 'don' 'yeah']\n",
      "['got' 've' 'let' 'yeah' 'don']\n",
      "['gonna' 'yeah' 've' 'know' 'oh']\n",
      "['gonna' 'll' 'christmas' 'yeah' 'like']\n",
      "['christmas' 'like' 'don' 'chorus' 'got']\n",
      "['christmas' 'time' 'don' 'come' 'just']\n",
      "['know' 'chorus' 'christmas' 'away' 'hey']\n",
      "['come' 'know' 'hey' 'home' 'don']\n",
      "['hey' 'like' 'say' 'girl' 'chorus']\n",
      "['time' 'hey' 'heart' 'girl' 'chorus']\n",
      "['chorus' 'know' 'come' 'wanna' 'man']\n",
      "['time' 'say' 'girl' 'away' 'way']\n",
      "['hey' 'girl' 'like' 'feel' 'little']\n",
      "['chorus' 'need' 'wanna' 'life' 'hey']\n",
      "['night' 'heart' 'come' 'tonight' 'like']\n",
      "['wanna' 'need' 'time' 'feel' 'believe']\n",
      "['away' 'say' 'night' 'tonight' 'need']\n",
      "['girl' 'need' 'way' 'heart' 'chorus']\n",
      "['home' 'need' 'wanna' 'long' 'just']\n",
      "['just' 'way' 'heart' 've' 'feel']\n",
      "['say' 'believe' 'like' 'just' 'girl']\n",
      "['na' 'little' 'life' 'ooh' 'good']\n",
      "['good' 'way' 'little' 'man' 'feel']\n",
      "['believe' 'little' 'way' 'just' 'day']\n",
      "['life' 'feel' 'little' 'believe' 'heart']\n",
      "['believe' 'man' 'good' 'ain' 'tonight']\n",
      "['man' 'home' 'day' 'tonight' 'just']\n",
      "['little' 'man' 'life' 'tonight' 'woman']\n",
      "['tell' 'make' 'little' 'right' 'away']\n",
      "['tell' 'world' 'say' 'way' 'home']\n",
      "['ooh' 'world' 'home' 'life' 'long']\n",
      "['feel' 'tonight' 'good' 'night' 'tell']\n",
      "['ooh' 'world' 'tonight' 'long' 'tell']\n",
      "['ooh' 'feel' 'better' 'got' 'life']\n",
      "['tell' 'gone' 'ain' 'make' 'feel']\n",
      "['hold' 'dance' 'good' 'ooh' 'blue']\n",
      "['hold' 'tonight' 'dance' 'make' 'day']\n",
      "['better' 'ain' 'day' 'world' 'night']\n",
      "['dance' 'forever' 'right' 'dream' 'think']\n",
      "['rock' 'dance' 'roll' 'make' 'gotta']\n",
      "['hold' 'long' 'rock' 'gone' 'make']\n"
     ]
    }
   ],
   "source": [
    "words = np.array(vect.get_feature_names())\n",
    "for i in range(Z.shape[1]):\n",
    "    order = np.abs(lsa.components_[i]).argsort()[::-1]\n",
    "    print(words[order[:5]])"
   ]
  },
  {
   "cell_type": "markdown",
   "metadata": {},
   "source": [
    "##### Analysis : -\n",
    "* It's observed that some sets of words do capture some themes of the songs.\n",
    "* From one of the components above its observed that 'Christmas' and 'Chorus' are together. This can be inferred that this component has captured the christmas theme of the song.\n",
    "* 'Love' and 'heart' are captured together in another component telling us the romantic theme of the song.\n",
    "* Most components have captured words such as 'tonight', 'hold', 'feel', 'good', 'love', 'baby' telling us that majority of the songs contains these words as highly occuring terms."
   ]
  },
  {
   "cell_type": "markdown",
   "metadata": {},
   "source": [
    "#### Q4: Run a clustering algorithm with 2-10 clusters on low dimension features and select the best number of clusters using elbow method."
   ]
  },
  {
   "cell_type": "code",
   "execution_count": 93,
   "metadata": {},
   "outputs": [
    {
     "name": "stdout",
     "output_type": "stream",
     "text": [
      "[7161.2548409876672, 6944.1218891019262, 6755.5705800236501, 6598.4246215378853, 6443.437545011293, 6388.3896084065718, 6211.6444135590937, 6101.0127531772887, 6008.7897017194482]\n"
     ]
    }
   ],
   "source": [
    "from sklearn.cluster import KMeans\n",
    "inertia =[]\n",
    "\n",
    "for i in range(2,11):\n",
    "    kmeans_set = KMeans(i,max_iter=500)\n",
    "    kmeans_set.fit(Z)\n",
    "    inertia.append(kmeans_set.inertia_)\n",
    "\n",
    "print(inertia)"
   ]
  },
  {
   "cell_type": "code",
   "execution_count": 215,
   "metadata": {},
   "outputs": [
    {
     "data": {
      "text/plain": [
       "<matplotlib.lines.Line2D at 0x1a9c5097c88>"
      ]
     },
     "execution_count": 215,
     "metadata": {},
     "output_type": "execute_result"
    },
    {
     "data": {
      "image/png": "[encoded data removed]",
      "text/plain": [
       "<matplotlib.figure.Figure at 0x1a9c3a50160>"
      ]
     },
     "metadata": {},
     "output_type": "display_data"
    }
   ],
   "source": [
    "f = plt.figure(figsize=(12,4))\n",
    "f.add_subplot(1,2,1)\n",
    "plt.xlabel(\"K Values\")\n",
    "plt.ylabel(\"Inertia\")\n",
    "plt.tight_layout()\n",
    "plt.plot(range(2,11),inertia)\n",
    "\n",
    "f.add_subplot(1,2,2)\n",
    "plt.xlabel(\"K Values\")\n",
    "plt.ylabel(\"Inertia\")\n",
    "plt.tight_layout()\n",
    "plt.plot(range(2,11),inertia)\n",
    "plt.axvline(x=6,color=\"r\")"
   ]
  },
  {
   "cell_type": "markdown",
   "metadata": {},
   "source": [
    " * It's observed that the **optimal value of K is found to be 6** from the elbow method."
   ]
  },
  {
   "cell_type": "markdown",
   "metadata": {},
   "source": [
    "#### Q5: Use the best number of clusters that you have found and find top 5 closest documents to each cluster’s centroid. Compare your result with Q2"
   ]
  },
  {
   "cell_type": "code",
   "execution_count": 10,
   "metadata": {},
   "outputs": [
    {
     "data": {
      "text/plain": [
       "array([3, 2, 3, ..., 2, 3, 2])"
      ]
     },
     "execution_count": 10,
     "metadata": {},
     "output_type": "execute_result"
    }
   ],
   "source": [
    "from sklearn.cluster import KMeans\n",
    "kmeans_new = KMeans(6,max_iter=500,n_init=5)\n",
    "clusters_new = kmeans_new.fit_predict(Z)\n",
    "clusters_new"
   ]
  },
  {
   "cell_type": "code",
   "execution_count": 11,
   "metadata": {},
   "outputs": [
    {
     "name": "stdout",
     "output_type": "stream",
     "text": [
      "Cluster: 0 \n",
      "\n",
      "                  artist                                               text\n",
      "26982       Cat Stevens  [Chorus]  \\nLonger boats are coming to win us ...\n",
      "8345            Incubus  Woke up I wiped the sleepers from my eye  \\nLo...\n",
      "32494      Fall Out Boy  [Originally by Jawbreaker]  \\n  \\nI have a pre...\n",
      "51587               Sia  You can be my alphabet  \\nAnd I will be your c...\n",
      "43887  Michael W. Smith  Actions have been justified  \\nAll is compromi... \n",
      "\n",
      "Cluster: 1 \n",
      "\n",
      "               artist                                               text\n",
      "3014     Chuck Berry  Looks like I'll go on through my life bound in...\n",
      "17113  Rascal Flatts  Can't get enough of this everyday love  \\nCan'...\n",
      "41959      LL Cool J  One shot  \\nOh lord  \\nYou know, it's gonna be...\n",
      "14487    Norah Jones  He takes me to the places you and I used to go...\n",
      "49214     Puff Daddy  I want her to feel it in her chest  \\nI want h... \n",
      "\n",
      "Cluster: 2 \n",
      "\n",
      "                   artist                                               text\n",
      "21238  Weird Al Yankovic  As I walk through the valley where I harvest m...\n",
      "16404             Prince  You should never underestimate the power of  \\...\n",
      "49449      Queen Latifah  My mellow Latee was kicking flavor  \\nThe R.E....\n",
      "2618             Chicago  I guess I thought you'd be here forever  \\nAno...\n",
      "32918        Frank Zappa  L. Ron Hoover:  \\nWelcome to the First Church ... \n",
      "\n",
      "Cluster: 3 \n",
      "\n",
      "                    artist                                               text\n",
      "8546   Insane Clown Posse  The sun rises and sets on time every day of th...\n",
      "24200               Annie  Warbucks  \\n  \\nWhat is it about you  \\nYou're...\n",
      "36207  Horrible Histories  Settle down, class  \\nNow you've passed  \\nYou...\n",
      "12052            Lou Reed  You're an adventurer  \\nYou sail across the oc...\n",
      "37015  Insane Clown Posse  [Verse - Violent J]  \\nI like to suffocate peo... \n",
      "\n",
      "Cluster: 4 \n",
      "\n",
      "                 artist                                               text\n",
      "22858      Ace Of Base  La la l'amour  \\nGotta a lotta la la l'amour  ...\n",
      "19410        Tom Jones  There is a rose in Spanish Harlem  \\nA red ros...\n",
      "27810  Christmas Songs  Hey! Chingedy ching,  \\n(Hee-haw, hee-haw)  \\n...\n",
      "43785  Michael Jackson  (with Carole Bayer Sager)  \\n  \\nYou and me  \\...\n",
      "40373     King Diamond  As I look him deep in the eyes  \\nI see only d... \n",
      "\n",
      "Cluster: 5 \n",
      "\n",
      "                      artist                                               text\n",
      "586    Allman Brothers Band  Oh-oh  \\n  \\nWalking in the midnight rain  \\nT...\n",
      "44871          Natalie Cole  (Written by J. Livingston and R. Evans)  \\nWe'...\n",
      "26691           Bryan White  Straight out of some story  \\nYou walk in in a...\n",
      "36373            Ian Hunter  (mick, I've got a...)  \\nThere must be one mil...\n",
      "49042                Prince  Oh daddy  \\nOh, sock it to me  \\n  \\nSee my br... \n",
      "\n"
     ]
    }
   ],
   "source": [
    "dist_new = kmeans_new.transform(Z)\n",
    "for i in range(dist_new.shape[1]):\n",
    "    dist_np_new = np.array(dist_new[:,i])\n",
    "    index = np.argsort(dist_np_new)[:5]\n",
    "    print(\"Cluster: %d\"%i,\"\\n\\n\",pd.concat([df_song.artist[index],df_song.text.iloc[index]],axis=1),\"\\n\")\n"
   ]
  },
  {
   "cell_type": "markdown",
   "metadata": {},
   "source": [
    "##### Analysis : -\n",
    "* In Cluster 1 has captured words like 'Love' and 'feel', implying that this cluster is having songs with romantic theme.\n",
    "* in Cluster 3, words relating to nature and adventure are captured. \n",
    "* Its also interesting to find that 3 songs of the same artist have been captured in the same cluster (Cluster 3)."
   ]
  },
  {
   "cell_type": "markdown",
   "metadata": {},
   "source": [
    "#### Q6: Reduce dimension to 2 components and find 3 clusters in data and plot them using a scatter plot with different colors.  \n"
   ]
  },
  {
   "cell_type": "code",
   "execution_count": 109,
   "metadata": {},
   "outputs": [
    {
     "data": {
      "text/plain": [
       "(57650, 2)"
      ]
     },
     "execution_count": 109,
     "metadata": {},
     "output_type": "execute_result"
    }
   ],
   "source": [
    "lsa2 = TruncatedSVD(2)\n",
    "Z2 = lsa2.fit_transform(X)\n",
    "Z2.shape"
   ]
  },
  {
   "cell_type": "code",
   "execution_count": 112,
   "metadata": {
    "collapsed": true
   },
   "outputs": [],
   "source": [
    "kmeans3 = KMeans(3)\n",
    "kmeans_lsa = kmeans3.fit_predict(Z2)"
   ]
  },
  {
   "cell_type": "code",
   "execution_count": 210,
   "metadata": {
    "collapsed": true
   },
   "outputs": [],
   "source": [
    "import seaborn as sns\n",
    "\n",
    "#Set font size\n",
    "sns.set(font_scale=1.5)\n",
    "#set style of plots\n",
    "sns.set_style('white')\n",
    "#define a custom palette\n",
    "customPalette = ['#39C8C3', 'orchid', '#FFB139']\n",
    "sns.set_palette(customPalette)"
   ]
  },
  {
   "cell_type": "code",
   "execution_count": 213,
   "metadata": {},
   "outputs": [
    {
     "data": {
      "image/png": "[encoded data removed]",
      "text/plain": [
       "<matplotlib.figure.Figure at 0x1a9c3d87710>"
      ]
     },
     "metadata": {},
     "output_type": "display_data"
    }
   ],
   "source": [
    "plot_df = pd.concat([pd.DataFrame(Z2,columns=[\"X\",\"Y\"]),pd.DataFrame(kmeans_lsa,columns=[\"Labels\"])],axis=1)\n",
    "facet = sns.lmplot(data=plot_df, x='X', y='Y', hue='Labels', \n",
    "                   fit_reg=False, legend=True, legend_out=True,size = 6)"
   ]
  },
  {
   "cell_type": "markdown",
   "metadata": {},
   "source": [
    "##### Analysis : -\n",
    "* It can be observed that cluster 2 is having the highest count. A few documents are seemed to be driffted away from the centeroid.\n",
    "* Cluster 1 is having the second highest count of documents with slight dispersion.\n",
    "* Cluster 0 has the lowest count of documents with no dispersion.\n",
    "* These results matches our findings from the histogram plot of Q2.\n",
    "* All 3 clusters are very close to each other. This infers that majority of the songs contain words that are occuring almost the same amount of time. Or in another words, all songs exhibit high similarity."
   ]
  },
  {
   "cell_type": "markdown",
   "metadata": {},
   "source": [
    "#### Conclusion : -\n",
    "* Using LDA of 50 Components, the most frequent occuring words were identified and thus helped in infering the tone of most songs.\n",
    "* Used Elbow method to find the optimum number of clusters.\n",
    "* By analysing various clusters, songs of similar themes were observed to be in the same clusters."
   ]
  }
 ],
 "metadata": {
  "kernelspec": {
   "display_name": "Python 3",
   "language": "python",
   "name": "python3"
  },
  "language_info": {
   "codemirror_mode": {
    "name": "ipython",
    "version": 3
   },
   "file_extension": ".py",
   "mimetype": "text/x-python",
   "name": "python",
   "nbconvert_exporter": "python",
   "pygments_lexer": "ipython3",
   "version": "3.6.1"
  }
 },
 "nbformat": 4,
 "nbformat_minor": 2
}
