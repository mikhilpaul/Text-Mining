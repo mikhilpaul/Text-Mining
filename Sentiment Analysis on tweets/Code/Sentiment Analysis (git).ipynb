{
 "cells": [
  {
   "cell_type": "markdown",
   "metadata": {},
   "source": [
    "### Sentiment analysis on twitter tweets that reflects the sentiment of customers of major airlines. \n",
    "\n",
    "* Exploratory analysis to understand sentiment distribution of customers across various airlines.\n",
    "* Preprocessing of tweets by removing URLS, mentions and replacing # by keyword \"hashtag\".\n",
    "* Use Multinomial Naive Bayes and Logistic regression to learn and predict customer sentiments.\n",
    "* Plot a learning-curve for both models."
   ]
  },
  {
   "cell_type": "markdown",
   "metadata": {},
   "source": [
    "#### Loading Data: -"
   ]
  },
  {
   "cell_type": "code",
   "execution_count": 5,
   "metadata": {
    "collapsed": true
   },
   "outputs": [],
   "source": [
    "import numpy as np\n",
    "import pandas as pd\n",
    "\n",
    "df = pd.read_csv(\"Tweets.csv\", header=0, delimiter=\",\", quoting=0)"
   ]
  },
  {
   "cell_type": "code",
   "execution_count": 18,
   "metadata": {},
   "outputs": [
    {
     "data": {
      "text/html": [
       "<div>\n",
       "<style>\n",
       "    .dataframe thead tr:only-child th {\n",
       "        text-align: right;\n",
       "    }\n",
       "\n",
       "    .dataframe thead th {\n",
       "        text-align: left;\n",
       "    }\n",
       "\n",
       "    .dataframe tbody tr th {\n",
       "        vertical-align: top;\n",
       "    }\n",
       "</style>\n",
       "<table border=\"1\" class=\"dataframe\">\n",
       "  <thead>\n",
       "    <tr style=\"text-align: right;\">\n",
       "      <th></th>\n",
       "      <th>tweet_id</th>\n",
       "      <th>airline_sentiment</th>\n",
       "      <th>airline_sentiment_confidence</th>\n",
       "      <th>negativereason</th>\n",
       "      <th>negativereason_confidence</th>\n",
       "      <th>airline</th>\n",
       "      <th>airline_sentiment_gold</th>\n",
       "      <th>name</th>\n",
       "      <th>negativereason_gold</th>\n",
       "      <th>retweet_count</th>\n",
       "      <th>text</th>\n",
       "      <th>tweet_coord</th>\n",
       "      <th>tweet_created</th>\n",
       "      <th>tweet_location</th>\n",
       "      <th>user_timezone</th>\n",
       "    </tr>\n",
       "  </thead>\n",
       "  <tbody>\n",
       "    <tr>\n",
       "      <th>0</th>\n",
       "      <td>570306133677760513</td>\n",
       "      <td>neutral</td>\n",
       "      <td>1.0000</td>\n",
       "      <td>NaN</td>\n",
       "      <td>NaN</td>\n",
       "      <td>Virgin America</td>\n",
       "      <td>NaN</td>\n",
       "      <td>cairdin</td>\n",
       "      <td>NaN</td>\n",
       "      <td>0</td>\n",
       "      <td>@VirginAmerica What @dhepburn said.</td>\n",
       "      <td>NaN</td>\n",
       "      <td>2015-02-24 11:35:52 -0800</td>\n",
       "      <td>NaN</td>\n",
       "      <td>Eastern Time (US &amp; Canada)</td>\n",
       "    </tr>\n",
       "    <tr>\n",
       "      <th>1</th>\n",
       "      <td>570301130888122368</td>\n",
       "      <td>positive</td>\n",
       "      <td>0.3486</td>\n",
       "      <td>NaN</td>\n",
       "      <td>0.0000</td>\n",
       "      <td>Virgin America</td>\n",
       "      <td>NaN</td>\n",
       "      <td>jnardino</td>\n",
       "      <td>NaN</td>\n",
       "      <td>0</td>\n",
       "      <td>@VirginAmerica plus you've added commercials t...</td>\n",
       "      <td>NaN</td>\n",
       "      <td>2015-02-24 11:15:59 -0800</td>\n",
       "      <td>NaN</td>\n",
       "      <td>Pacific Time (US &amp; Canada)</td>\n",
       "    </tr>\n",
       "    <tr>\n",
       "      <th>2</th>\n",
       "      <td>570301083672813571</td>\n",
       "      <td>neutral</td>\n",
       "      <td>0.6837</td>\n",
       "      <td>NaN</td>\n",
       "      <td>NaN</td>\n",
       "      <td>Virgin America</td>\n",
       "      <td>NaN</td>\n",
       "      <td>yvonnalynn</td>\n",
       "      <td>NaN</td>\n",
       "      <td>0</td>\n",
       "      <td>@VirginAmerica I didn't today... Must mean I n...</td>\n",
       "      <td>NaN</td>\n",
       "      <td>2015-02-24 11:15:48 -0800</td>\n",
       "      <td>Lets Play</td>\n",
       "      <td>Central Time (US &amp; Canada)</td>\n",
       "    </tr>\n",
       "    <tr>\n",
       "      <th>3</th>\n",
       "      <td>570301031407624196</td>\n",
       "      <td>negative</td>\n",
       "      <td>1.0000</td>\n",
       "      <td>Bad Flight</td>\n",
       "      <td>0.7033</td>\n",
       "      <td>Virgin America</td>\n",
       "      <td>NaN</td>\n",
       "      <td>jnardino</td>\n",
       "      <td>NaN</td>\n",
       "      <td>0</td>\n",
       "      <td>@VirginAmerica it's really aggressive to blast...</td>\n",
       "      <td>NaN</td>\n",
       "      <td>2015-02-24 11:15:36 -0800</td>\n",
       "      <td>NaN</td>\n",
       "      <td>Pacific Time (US &amp; Canada)</td>\n",
       "    </tr>\n",
       "    <tr>\n",
       "      <th>4</th>\n",
       "      <td>570300817074462722</td>\n",
       "      <td>negative</td>\n",
       "      <td>1.0000</td>\n",
       "      <td>Can't Tell</td>\n",
       "      <td>1.0000</td>\n",
       "      <td>Virgin America</td>\n",
       "      <td>NaN</td>\n",
       "      <td>jnardino</td>\n",
       "      <td>NaN</td>\n",
       "      <td>0</td>\n",
       "      <td>@VirginAmerica and it's a really big bad thing...</td>\n",
       "      <td>NaN</td>\n",
       "      <td>2015-02-24 11:14:45 -0800</td>\n",
       "      <td>NaN</td>\n",
       "      <td>Pacific Time (US &amp; Canada)</td>\n",
       "    </tr>\n",
       "  </tbody>\n",
       "</table>\n",
       "</div>"
      ],
      "text/plain": [
       "             tweet_id airline_sentiment  airline_sentiment_confidence  \\\n",
       "0  570306133677760513           neutral                        1.0000   \n",
       "1  570301130888122368          positive                        0.3486   \n",
       "2  570301083672813571           neutral                        0.6837   \n",
       "3  570301031407624196          negative                        1.0000   \n",
       "4  570300817074462722          negative                        1.0000   \n",
       "\n",
       "  negativereason  negativereason_confidence         airline  \\\n",
       "0            NaN                        NaN  Virgin America   \n",
       "1            NaN                     0.0000  Virgin America   \n",
       "2            NaN                        NaN  Virgin America   \n",
       "3     Bad Flight                     0.7033  Virgin America   \n",
       "4     Can't Tell                     1.0000  Virgin America   \n",
       "\n",
       "  airline_sentiment_gold        name negativereason_gold  retweet_count  \\\n",
       "0                    NaN     cairdin                 NaN              0   \n",
       "1                    NaN    jnardino                 NaN              0   \n",
       "2                    NaN  yvonnalynn                 NaN              0   \n",
       "3                    NaN    jnardino                 NaN              0   \n",
       "4                    NaN    jnardino                 NaN              0   \n",
       "\n",
       "                                                text tweet_coord  \\\n",
       "0                @VirginAmerica What @dhepburn said.         NaN   \n",
       "1  @VirginAmerica plus you've added commercials t...         NaN   \n",
       "2  @VirginAmerica I didn't today... Must mean I n...         NaN   \n",
       "3  @VirginAmerica it's really aggressive to blast...         NaN   \n",
       "4  @VirginAmerica and it's a really big bad thing...         NaN   \n",
       "\n",
       "               tweet_created tweet_location               user_timezone  \n",
       "0  2015-02-24 11:35:52 -0800            NaN  Eastern Time (US & Canada)  \n",
       "1  2015-02-24 11:15:59 -0800            NaN  Pacific Time (US & Canada)  \n",
       "2  2015-02-24 11:15:48 -0800      Lets Play  Central Time (US & Canada)  \n",
       "3  2015-02-24 11:15:36 -0800            NaN  Pacific Time (US & Canada)  \n",
       "4  2015-02-24 11:14:45 -0800            NaN  Pacific Time (US & Canada)  "
      ]
     },
     "execution_count": 18,
     "metadata": {},
     "output_type": "execute_result"
    }
   ],
   "source": [
    "df.head(5)"
   ]
  },
  {
   "cell_type": "code",
   "execution_count": 6,
   "metadata": {
    "collapsed": true
   },
   "outputs": [],
   "source": [
    "data = pd.DataFrame(df[[\"airline_sentiment\",\"airline\",\"text\"]])\n",
    "\n",
    "data[\"airline_sentiment\"] = data[\"airline_sentiment\"].map({'positive':3,'neutral':2,'negative':1})\n",
    "\n",
    "airline_names = data.airline.unique()\n"
   ]
  },
  {
   "cell_type": "markdown",
   "metadata": {},
   "source": [
    "#### Q1: Load all data and plot the sentiment distribution for each airline."
   ]
  },
  {
   "cell_type": "code",
   "execution_count": 7,
   "metadata": {
    "scrolled": false
   },
   "outputs": [
    {
     "data": {
      "image/png": "[encoded data removed]",
      "text/plain": [
       "<matplotlib.figure.Figure at 0x2b7ede25898>"
      ]
     },
     "metadata": {},
     "output_type": "display_data"
    },
    {
     "data": {
      "image/png": "[encoded data removed]",
      "text/plain": [
       "<matplotlib.figure.Figure at 0x2b7ededaf60>"
      ]
     },
     "metadata": {},
     "output_type": "display_data"
    },
    {
     "data": {
      "image/png": "[encoded data removed]",
      "text/plain": [
       "<matplotlib.figure.Figure at 0x2b7ef29f208>"
      ]
     },
     "metadata": {},
     "output_type": "display_data"
    },
    {
     "data": {
      "image/png": "[encoded data removed]",
      "text/plain": [
       "<matplotlib.figure.Figure at 0x2b7ededaef0>"
      ]
     },
     "metadata": {},
     "output_type": "display_data"
    },
    {
     "data": {
      "image/png": "[encoded data removed]",
      "text/plain": [
       "<matplotlib.figure.Figure at 0x2b7ee0e8208>"
      ]
     },
     "metadata": {},
     "output_type": "display_data"
    },
    {
     "data": {
      "image/png": "[encoded data removed]",
      "text/plain": [
       "<matplotlib.figure.Figure at 0x2b7ef2cbf98>"
      ]
     },
     "metadata": {},
     "output_type": "display_data"
    }
   ],
   "source": [
    "%matplotlib inline\n",
    "import matplotlib.pyplot as plt\n",
    "\n",
    "for i in range(len(airline_names)):\n",
    "    temp = data[data[\"airline\"].str.match(airline_names[i])]\n",
    "    temp[\"airline_sentiment\"].plot.hist()\n",
    "    plt.title(\"Histogram for \"+airline_names[i]+\" airline\")\n",
    "    plt.show()\n"
   ]
  },
  {
   "cell_type": "markdown",
   "metadata": {},
   "source": [
    "#### Analysis : -\n",
    "* Virgin airlines is having an almost even distribution of positive, negative and neutral sentiments.\n",
    "* Tweets mentioning United, US Airways and American airlines are having high number of negative sentiments.\n",
    "* All airlines are having more tweets with negative sentiments than positive or neutral."
   ]
  },
  {
   "cell_type": "code",
   "execution_count": 8,
   "metadata": {},
   "outputs": [
    {
     "data": {
      "text/html": [
       "<div>\n",
       "<style>\n",
       "    .dataframe thead tr:only-child th {\n",
       "        text-align: right;\n",
       "    }\n",
       "\n",
       "    .dataframe thead th {\n",
       "        text-align: left;\n",
       "    }\n",
       "\n",
       "    .dataframe tbody tr th {\n",
       "        vertical-align: top;\n",
       "    }\n",
       "</style>\n",
       "<table border=\"1\" class=\"dataframe\">\n",
       "  <thead>\n",
       "    <tr style=\"text-align: right;\">\n",
       "      <th></th>\n",
       "      <th>airline_sentiment</th>\n",
       "      <th>airline</th>\n",
       "      <th>text</th>\n",
       "    </tr>\n",
       "  </thead>\n",
       "  <tbody>\n",
       "    <tr>\n",
       "      <th>0</th>\n",
       "      <td>2</td>\n",
       "      <td>Virgin America</td>\n",
       "      <td>@VirginAmerica What @dhepburn said.</td>\n",
       "    </tr>\n",
       "    <tr>\n",
       "      <th>1</th>\n",
       "      <td>3</td>\n",
       "      <td>Virgin America</td>\n",
       "      <td>@VirginAmerica plus you've added commercials t...</td>\n",
       "    </tr>\n",
       "    <tr>\n",
       "      <th>2</th>\n",
       "      <td>2</td>\n",
       "      <td>Virgin America</td>\n",
       "      <td>@VirginAmerica I didn't today... Must mean I n...</td>\n",
       "    </tr>\n",
       "    <tr>\n",
       "      <th>3</th>\n",
       "      <td>1</td>\n",
       "      <td>Virgin America</td>\n",
       "      <td>@VirginAmerica it's really aggressive to blast...</td>\n",
       "    </tr>\n",
       "    <tr>\n",
       "      <th>4</th>\n",
       "      <td>1</td>\n",
       "      <td>Virgin America</td>\n",
       "      <td>@VirginAmerica and it's a really big bad thing...</td>\n",
       "    </tr>\n",
       "  </tbody>\n",
       "</table>\n",
       "</div>"
      ],
      "text/plain": [
       "   airline_sentiment         airline  \\\n",
       "0                  2  Virgin America   \n",
       "1                  3  Virgin America   \n",
       "2                  2  Virgin America   \n",
       "3                  1  Virgin America   \n",
       "4                  1  Virgin America   \n",
       "\n",
       "                                                text  \n",
       "0                @VirginAmerica What @dhepburn said.  \n",
       "1  @VirginAmerica plus you've added commercials t...  \n",
       "2  @VirginAmerica I didn't today... Must mean I n...  \n",
       "3  @VirginAmerica it's really aggressive to blast...  \n",
       "4  @VirginAmerica and it's a really big bad thing...  "
      ]
     },
     "execution_count": 8,
     "metadata": {},
     "output_type": "execute_result"
    }
   ],
   "source": [
    "import re\n",
    "\n",
    "regexp_hashtag = '(?<=^|(?<=[^a-zA-Z0-9-_\\.]))#([A-Za-z]+[A-Za-z0-9]+)'\n",
    "pattern_hashtag = re.compile(regexp_hashtag, re.UNICODE | re.IGNORECASE)\n",
    "regexp_mention = '(?<=^|(?<=[^a-zA-Z0-9-_\\.]))@([A-Za-z]+[A-Za-z0-9]+)'\n",
    "pattern_mention = re.compile(regexp_mention, re.UNICODE | re.IGNORECASE)\n",
    "regexp_url = 'http[s]?://(?:[a-zA-Z]|[0-9]|[$-_@.&+]|[!*\\(\\),]|(?:%[0-9a-fA-F][0-9a-fA-F]))+'\n",
    "pattern_url = re.compile(regexp_url, re.UNICODE | re.IGNORECASE)\n",
    "\n",
    "def preprocess(text):\n",
    "    #Remove URLs \n",
    "    temp = pattern_url.sub('',text)\n",
    "    #Remove intermediate periods to better detect mentions\n",
    "    temp = re.sub('\\.(?!$)', '',temp)\n",
    "    #Remove Mentions\n",
    "    temp = pattern_mention.sub('',temp)\n",
    "    #Replace hashtags\n",
    "    temp = pattern_hashtag.sub(r' hashtag_\\1',temp)\n",
    "    #Removing \\n RT : and leading spaces\n",
    "    return temp\n",
    "\n",
    "data.head(5)\n"
   ]
  },
  {
   "cell_type": "markdown",
   "metadata": {},
   "source": [
    "#### Q2: Remove URLs and mentions and rename hashtag sign to ‘hashtag_’"
   ]
  },
  {
   "cell_type": "code",
   "execution_count": 9,
   "metadata": {},
   "outputs": [
    {
     "name": "stderr",
     "output_type": "stream",
     "text": [
      "C:\\Anaconda3\\lib\\site-packages\\ipykernel_launcher.py:2: SettingWithCopyWarning: \n",
      "A value is trying to be set on a copy of a slice from a DataFrame\n",
      "\n",
      "See the caveats in the documentation: http://pandas.pydata.org/pandas-docs/stable/indexing.html#indexing-view-versus-copy\n",
      "  \n"
     ]
    },
    {
     "data": {
      "text/html": [
       "<div>\n",
       "<style>\n",
       "    .dataframe thead tr:only-child th {\n",
       "        text-align: right;\n",
       "    }\n",
       "\n",
       "    .dataframe thead th {\n",
       "        text-align: left;\n",
       "    }\n",
       "\n",
       "    .dataframe tbody tr th {\n",
       "        vertical-align: top;\n",
       "    }\n",
       "</style>\n",
       "<table border=\"1\" class=\"dataframe\">\n",
       "  <thead>\n",
       "    <tr style=\"text-align: right;\">\n",
       "      <th></th>\n",
       "      <th>airline_sentiment</th>\n",
       "      <th>airline</th>\n",
       "      <th>text</th>\n",
       "    </tr>\n",
       "  </thead>\n",
       "  <tbody>\n",
       "    <tr>\n",
       "      <th>0</th>\n",
       "      <td>2</td>\n",
       "      <td>Virgin America</td>\n",
       "      <td>What  said.</td>\n",
       "    </tr>\n",
       "    <tr>\n",
       "      <th>1</th>\n",
       "      <td>3</td>\n",
       "      <td>Virgin America</td>\n",
       "      <td>plus you've added commercials to the experien...</td>\n",
       "    </tr>\n",
       "    <tr>\n",
       "      <th>2</th>\n",
       "      <td>2</td>\n",
       "      <td>Virgin America</td>\n",
       "      <td>I didn't today Must mean I need to take anoth...</td>\n",
       "    </tr>\n",
       "    <tr>\n",
       "      <th>3</th>\n",
       "      <td>1</td>\n",
       "      <td>Virgin America</td>\n",
       "      <td>it's really aggressive to blast obnoxious \"en...</td>\n",
       "    </tr>\n",
       "    <tr>\n",
       "      <th>4</th>\n",
       "      <td>1</td>\n",
       "      <td>Virgin America</td>\n",
       "      <td>and it's a really big bad thing about it</td>\n",
       "    </tr>\n",
       "  </tbody>\n",
       "</table>\n",
       "</div>"
      ],
      "text/plain": [
       "   airline_sentiment         airline  \\\n",
       "0                  2  Virgin America   \n",
       "1                  3  Virgin America   \n",
       "2                  2  Virgin America   \n",
       "3                  1  Virgin America   \n",
       "4                  1  Virgin America   \n",
       "\n",
       "                                                text  \n",
       "0                                        What  said.  \n",
       "1   plus you've added commercials to the experien...  \n",
       "2   I didn't today Must mean I need to take anoth...  \n",
       "3   it's really aggressive to blast obnoxious \"en...  \n",
       "4           and it's a really big bad thing about it  "
      ]
     },
     "execution_count": 9,
     "metadata": {},
     "output_type": "execute_result"
    }
   ],
   "source": [
    "for i  in range(len(data)):\n",
    "    data[\"text\"][i] = preprocess(data[\"text\"][i])\n",
    "data.head(5)"
   ]
  },
  {
   "cell_type": "markdown",
   "metadata": {},
   "source": [
    "#### Q3: For each airline, train a logistic regression and perform 10-fold crossvalidation and report the accuracy and F1 score (with weighted average). Analyze your result."
   ]
  },
  {
   "cell_type": "code",
   "execution_count": 21,
   "metadata": {},
   "outputs": [
    {
     "name": "stdout",
     "output_type": "stream",
     "text": [
      "Airline: Virgin America  \t\tAccuracy: 62.51% \tF1-Score: 62.85%\n",
      "Airline: United  \t\tAccuracy: 75.17% \tF1-Score: 73.56%\n",
      "Airline: Southwest  \t\tAccuracy: 71.24% \tF1-Score: 71.23%\n",
      "Airline: Delta  \t\tAccuracy: 68.46% \tF1-Score: 68.29%\n",
      "Airline: US Airways  \t\tAccuracy: 81.33% \tF1-Score: 78.75%\n",
      "Airline: American  \t\tAccuracy: 78.51% \tF1-Score: 76.38%\n"
     ]
    }
   ],
   "source": [
    "from sklearn.model_selection import KFold\n",
    "from sklearn.metrics  import accuracy_score, f1_score\n",
    "from sklearn.feature_extraction.text import CountVectorizer\n",
    "from sklearn.linear_model import LogisticRegression\n",
    "\n",
    "\n",
    "\n",
    "scores_new =[]\n",
    "kf = KFold(n_splits=10)\n",
    "for i in range(len(airline_names)):\n",
    "    \n",
    "    temp = data[data[\"airline\"].str.match(airline_names[i])]\n",
    "    scores =[]\n",
    "    for train, valid in kf.split(temp['airline_sentiment']):\n",
    "        \n",
    "        X_train_text = temp['text'].iloc[train]\n",
    "        y_train = temp['airline_sentiment'].iloc[train]\n",
    "\n",
    "        X_valid_text = temp['text'].iloc[valid]\n",
    "        y_valid = temp['airline_sentiment'].iloc[valid]\n",
    "\n",
    "        vect = CountVectorizer(binary = False, stop_words='english')\n",
    "\n",
    "        X_train = vect.fit_transform(X_train_text)\n",
    "        X_valid = vect.transform(X_valid_text)\n",
    "        LR = LogisticRegression(C = 2.3)\n",
    "        LR.fit(X_train, y_train)\n",
    "\n",
    "        p_valid = LR.predict(X_valid)\n",
    "\n",
    "        scores.append([accuracy_score(y_valid,p_valid),f1_score(y_valid,p_valid,average='weighted')])\n",
    "    \n",
    "    scores_new.append(np.array(scores).mean(0))\n",
    "\n",
    "for i in range(len(scores_new)):\n",
    "    print('Airline: %s' % airline_names[i], ' \\t\\tAccuracy: %.02f' % float(scores_new[i][0]*100)+\"%\", '\\tF1-Score: %.02f'% float(scores_new[i][1]*100)+\"%\")\n"
   ]
  },
  {
   "cell_type": "markdown",
   "metadata": {},
   "source": [
    "#### Analysis : -\n",
    "* Logistic Regression model was able to **accurately predict the sentiments of US Airways 81% of the time** when compared to other airlines along with a pretty good F-1 score.\n",
    "* The **least Accuracy and F-1 score** was reported for **Virgin America** airlines.\n",
    "* All other airlines produced a moderate accuracy in the range of 68% to 78%.\n"
   ]
  },
  {
   "cell_type": "markdown",
   "metadata": {},
   "source": [
    "#### Q4: Repeat Q3 with multinomial Naïve Bayes classifier, and compare your result with Q3."
   ]
  },
  {
   "cell_type": "code",
   "execution_count": 28,
   "metadata": {},
   "outputs": [
    {
     "name": "stdout",
     "output_type": "stream",
     "text": [
      "Airline: Virgin America  \t\tAccuracy: 58.57% \tF1-Score: 57.86%\n",
      "Airline: United  \t\tAccuracy: 74.73% \tF1-Score: 71.38%\n",
      "Airline: Southwest  \t\tAccuracy: 69.79% \tF1-Score: 68.74%\n",
      "Airline: Delta  \t\tAccuracy: 68.10% \tF1-Score: 66.84%\n",
      "Airline: US Airways  \t\tAccuracy: 80.12% \tF1-Score: 76.23%\n",
      "Airline: American  \t\tAccuracy: 77.28% \tF1-Score: 73.74%\n"
     ]
    }
   ],
   "source": [
    "from sklearn.naive_bayes import MultinomialNB\n",
    "\n",
    "scores_new =[]\n",
    "kf = KFold(n_splits=10)\n",
    "for i in range(len(airline_names)):\n",
    "    \n",
    "    temp = data[data[\"airline\"].str.match(airline_names[i])]\n",
    "    scores =[]\n",
    "    for train, valid in kf.split(temp['airline_sentiment']):\n",
    "        \n",
    "        X_train_text = temp['text'].iloc[train]\n",
    "        y_train = temp['airline_sentiment'].iloc[train]\n",
    "\n",
    "        X_valid_text = temp['text'].iloc[valid]\n",
    "        y_valid = temp['airline_sentiment'].iloc[valid]\n",
    "\n",
    "        vect = CountVectorizer(binary = False, stop_words='english')\n",
    "\n",
    "        X_train = vect.fit_transform(X_train_text)\n",
    "        X_valid = vect.transform(X_valid_text)\n",
    "\n",
    "        MNB = MultinomialNB(0.5)\n",
    "        MNB.fit(X_train, y_train)\n",
    "\n",
    "        p_valid = MNB.predict(X_valid)\n",
    "\n",
    "        scores.append([accuracy_score(y_valid,p_valid),f1_score(y_valid,p_valid,average='weighted')])\n",
    "\n",
    "    scores_new.append(np.array(scores).mean(0))\n",
    "\n",
    "for i in range(len(scores_new)):\n",
    "    print('Airline: %s' % airline_names[i], ' \\t\\tAccuracy: %.02f' % float(scores_new[i][0]*100)+\"%\", '\\tF1-Score: %.02f'% float(scores_new[i][1]*100)+\"%\")"
   ]
  },
  {
   "cell_type": "markdown",
   "metadata": {},
   "source": [
    "#### Analysis : -\n",
    "* Multinomial Naive Bayes also produced **highest accuracy for US Airways**, accurately predicting correct sentiment **80% of the time** along with a high F-1 score.\n",
    "* **Lowest accuracy** was reported for **Virgin America**.\n",
    "* Model predicted with a moderate accuracy for all the other airlines with accuracies ranging from 68% to 77%.\n"
   ]
  },
  {
   "cell_type": "markdown",
   "metadata": {},
   "source": [
    "#### Logistic Regression vs Multinomial Regression\n",
    "* In both the cases Virgin America was predcited with low accuracy because of lower number of training data.\n",
    "* It's oberved that both the models predicted sentiments for each airlines with **almost similar accuracies.**\n",
    "* **Logistic Regression** has predicted with **higher accuracy for both US Airways and Virgin America.**\n",
    "* The **F-1 scores** which are the weighted average of precision and recall are also **higher for Logistic Regression** than for Multinomial NB.\n",
    "* On comapring the accuracies it's observed that **logistic regression is performing better than Naive Bayes for all airlines.**"
   ]
  },
  {
   "cell_type": "markdown",
   "metadata": {},
   "source": [
    "#### Q5) Join all airlines together then train logistic regression and multinomial Naïve Bayes with 10-folds cross-validation and analyze your result."
   ]
  },
  {
   "cell_type": "code",
   "execution_count": 34,
   "metadata": {
    "collapsed": true
   },
   "outputs": [],
   "source": [
    "#randomly shuffle data for Q5 and Q6\n",
    "data = data.sample(frac=1, random_state= 100)"
   ]
  },
  {
   "cell_type": "markdown",
   "metadata": {},
   "source": [
    "##### Logistic Regression:\n"
   ]
  },
  {
   "cell_type": "code",
   "execution_count": 35,
   "metadata": {},
   "outputs": [
    {
     "name": "stdout",
     "output_type": "stream",
     "text": [
      "Airline: All  \tAccuracy: 80.00 % \tF1-Score: 79.47 %\n"
     ]
    }
   ],
   "source": [
    "scores =[]\n",
    "kf = KFold(n_splits=10)\n",
    "for train, valid in kf.split(data['airline_sentiment']):\n",
    "    \n",
    "    X_train_text = data['text'][train]\n",
    "    y_train = data['airline_sentiment'][train]\n",
    "\n",
    "    X_valid_text = data['text'][valid]\n",
    "    y_valid = data['airline_sentiment'][valid]\n",
    "\n",
    "    vect = CountVectorizer(binary = False)\n",
    "\n",
    "    X_train = vect.fit_transform(X_train_text)\n",
    "    X_valid = vect.transform(X_valid_text)\n",
    "\n",
    "    LR = LogisticRegression(C = 0.4)\n",
    "    LR.fit(X_train, y_train)\n",
    "\n",
    "    p_valid = LR.predict(X_valid)\n",
    "    \n",
    "    scores.append([accuracy_score(y_valid,p_valid),f1_score(y_valid,p_valid,average='weighted')])\n",
    "    \n",
    "scores = np.array(scores).mean(0)\n",
    "print('Airline: All', ' \\tAccuracy: %.02f' % float(scores[0]*100)+\" %\", '\\tF1-Score: %.02f'%float(scores[1]*100)+\" %\")"
   ]
  },
  {
   "cell_type": "markdown",
   "metadata": {},
   "source": [
    "##### Multinomial Naive Bayes:"
   ]
  },
  {
   "cell_type": "code",
   "execution_count": 36,
   "metadata": {},
   "outputs": [
    {
     "name": "stdout",
     "output_type": "stream",
     "text": [
      "Airline: All  \tAccuracy: 77.28 % \tF1-Score: 75.97 %\n"
     ]
    }
   ],
   "source": [
    "scores =[]\n",
    "for train, valid in kf.split(data['airline_sentiment']):\n",
    "    \n",
    "    X_train_text = data['text'][train]\n",
    "    y_train = data['airline_sentiment'][train]\n",
    "\n",
    "    X_valid_text = data['text'][valid]\n",
    "    y_valid = data['airline_sentiment'][valid]\n",
    "\n",
    "    vect = CountVectorizer(binary = False)\n",
    "\n",
    "    X_train = vect.fit_transform(X_train_text)\n",
    "    X_valid = vect.transform(X_valid_text)\n",
    "\n",
    "    MNB = MultinomialNB(0.3)\n",
    "    MNB.fit(X_train, y_train)\n",
    "\n",
    "    p_valid = MNB.predict(X_valid)\n",
    "    \n",
    "    scores.append([accuracy_score(y_valid,p_valid),f1_score(y_valid,p_valid,average='weighted')])\n",
    "    \n",
    "scores = np.array(scores).mean(0)\n",
    "print('Airline: All', ' \\tAccuracy: %.02f' % float(scores[0]*100)+\" %\", '\\tF1-Score: %.02f'%float(scores[1]*100)+\" %\")"
   ]
  },
  {
   "cell_type": "markdown",
   "metadata": {},
   "source": [
    "#### Analysis : -\n",
    "* On doing 10-fold Cross Validation on the combined data set its found that **Logistic Regression is accurately predicting 3% more than Naive Bayes.**\n",
    "* Logistic Regression has a higher F-1 score compared to Naive Bayes."
   ]
  },
  {
   "cell_type": "markdown",
   "metadata": {},
   "source": [
    "#### Q6: Randomly select 20% of joined data and reserve that for the validation purpose, and the remaining data for the training purpose. Generate a learning curve by gradually adding training data (e.g. using 5, 10, 15, ..., 80 percent for the training). Plot the accuracy of logistic regression and multinomial Naïve Bayes (on one plot) and analyze your results."
   ]
  },
  {
   "cell_type": "code",
   "execution_count": 37,
   "metadata": {
    "collapsed": true
   },
   "outputs": [],
   "source": [
    "n = len(data.index)\n",
    "valid_data = data[:round(n*0.2)]\n",
    "X_valid_text = valid_data['text']\n",
    "Y_valid = valid_data['airline_sentiment']\n",
    "data_new = data[round(n*0.2):]\n"
   ]
  },
  {
   "cell_type": "markdown",
   "metadata": {},
   "source": [
    "##### Logistic Regression:\n"
   ]
  },
  {
   "cell_type": "code",
   "execution_count": 38,
   "metadata": {},
   "outputs": [
    {
     "name": "stdout",
     "output_type": "stream",
     "text": [
      "Training Data:  5 % \tAccuracies:  71.45 %\n",
      "Training Data:  10 % \tAccuracies:  74.52 %\n",
      "Training Data:  15 % \tAccuracies:  75.44 %\n",
      "Training Data:  20 % \tAccuracies:  76.16 %\n",
      "Training Data:  25 % \tAccuracies:  77.42 %\n",
      "Training Data:  30 % \tAccuracies:  77.97 %\n",
      "Training Data:  35 % \tAccuracies:  78.21 %\n",
      "Training Data:  40 % \tAccuracies:  78.62 %\n",
      "Training Data:  45 % \tAccuracies:  78.79 %\n",
      "Training Data:  50 % \tAccuracies:  79.23 %\n",
      "Training Data:  55 % \tAccuracies:  79.44 %\n",
      "Training Data:  60 % \tAccuracies:  79.54 %\n",
      "Training Data:  65 % \tAccuracies:  79.75 %\n",
      "Training Data:  70 % \tAccuracies:  79.88 %\n",
      "Training Data:  75 % \tAccuracies:  80.36 %\n",
      "Training Data:  80 % \tAccuracies:  80.16 %\n"
     ]
    }
   ],
   "source": [
    "scores_log =[]\n",
    "for i in np.arange(0.05,0.85,0.05):\n",
    "    x = int(round(i*n))\n",
    "    X_train_text = data_new['text'][:x]\n",
    "    Y_train = data_new['airline_sentiment'][:x]\n",
    "    \n",
    "    vect = CountVectorizer(binary = False)\n",
    "    \n",
    "    X_train = vect.fit_transform(X_train_text)\n",
    "    X_valid = vect.transform(X_valid_text)\n",
    "    \n",
    "    LR = LogisticRegression(C=0.5)\n",
    "    LR.fit(X_train,Y_train)\n",
    "    \n",
    "    p_valid = LR.predict(X_valid)\n",
    "    scores_log.append([int(i*100),accuracy_score(Y_valid,p_valid)])\n",
    "\n",
    "\n",
    "\n",
    "for i in range(len(scores_log)):\n",
    "    print(\"Training Data: \", scores_log[i][0],\"%\",\"\\tAccuracies: \", round(scores_log[i][1],4)*100,\"%\")\n",
    "    "
   ]
  },
  {
   "cell_type": "markdown",
   "metadata": {},
   "source": [
    "##### Multinomial Naive Bayes:"
   ]
  },
  {
   "cell_type": "code",
   "execution_count": 39,
   "metadata": {},
   "outputs": [
    {
     "name": "stdout",
     "output_type": "stream",
     "text": [
      "Training Data:  5 % \tAccuracies:  70.9 %\n",
      "Training Data:  10 % \tAccuracies:  73.02 %\n",
      "Training Data:  15 % \tAccuracies:  74.18 %\n",
      "Training Data:  20 % \tAccuracies:  74.9 %\n",
      "Training Data:  25 % \tAccuracies:  75.68 %\n",
      "Training Data:  30 % \tAccuracies:  76.13 %\n",
      "Training Data:  35 % \tAccuracies:  76.33 %\n",
      "Training Data:  40 % \tAccuracies:  76.91 %\n",
      "Training Data:  45 % \tAccuracies:  77.02 %\n",
      "Training Data:  50 % \tAccuracies:  77.19 %\n",
      "Training Data:  55 % \tAccuracies:  77.63 %\n",
      "Training Data:  60 % \tAccuracies:  77.63 %\n",
      "Training Data:  65 % \tAccuracies:  77.83 %\n",
      "Training Data:  70 % \tAccuracies:  78.11 %\n",
      "Training Data:  75 % \tAccuracies:  78.31 %\n",
      "Training Data:  80 % \tAccuracies:  78.62 %\n"
     ]
    }
   ],
   "source": [
    "scores_NB =[]\n",
    "\n",
    "for i in np.arange(0.05,0.85,0.05):\n",
    "    x = int(round(i*n))\n",
    "    X_train_text = data_new['text'][:x]\n",
    "    Y_train = data_new['airline_sentiment'][:x]\n",
    "    vect = CountVectorizer(binary = False)\n",
    "    \n",
    "    X_train = vect.fit_transform(X_train_text)\n",
    "    X_valid = vect.transform(X_valid_text)\n",
    "\n",
    "    MNB = MultinomialNB(0.3)\n",
    "    MNB.fit(X_train, Y_train)\n",
    "\n",
    "    p_valid = MNB.predict(X_valid)\n",
    "    scores_NB.append([int(i*100),accuracy_score(Y_valid,p_valid)])\n",
    "\n",
    "\n",
    "\n",
    "for i in range(len(scores_NB)):\n",
    "    print(\"Training Data: \", scores_NB[i][0],\"%\",\"\\tAccuracies: \", round(scores_NB[i][1],4)*100,\"%\")\n",
    " "
   ]
  },
  {
   "cell_type": "code",
   "execution_count": 40,
   "metadata": {},
   "outputs": [
    {
     "data": {
      "image/png": "[encoded data removed]",
      "text/plain": [
       "<matplotlib.figure.Figure at 0x2b7ecedfac8>"
      ]
     },
     "metadata": {},
     "output_type": "display_data"
    }
   ],
   "source": [
    "%matplotlib inline\n",
    "\n",
    "plt.title(\"Learning Curve\")\n",
    "scores_log = np.array(scores_log)\n",
    "scores_NB = np.array(scores_NB)\n",
    "size = np.arange(round(0.05*n),int(0.8*n+1),round(0.05*n))\n",
    "\n",
    "plt.plot(size, scores_log[:,1], label=\"Logistic Regression\")\n",
    "plt.plot(size, scores_NB[:,1],label = \"Multinomial NB\")\n",
    "plt.xlabel(\"Training size\")\n",
    "plt.ylabel('Accuracy')\n",
    "plt.xlim(size.min(),size.max())\n",
    "plt.legend(loc='lower right')\n",
    "plt.show()"
   ]
  },
  {
   "cell_type": "markdown",
   "metadata": {},
   "source": [
    "#### Analysis : -\n",
    "* With varied range of training data accuracies for **Logistic Regression** ranges from **71% to 80%.**\n",
    "* Accuracies for **Naive Bayes** range from **70% to 78%.**\n",
    "* Accuracies for both classifiers are steadily increasing with the addition of more training data.\n",
    "* A **slight dip in the accuracy** is observed  for Logistic Regression **when training data is increased from 75% to 80%**. Since the difference in accuracy is just 0.2%, it can be attributed to noise in the data set."
   ]
  },
  {
   "cell_type": "markdown",
   "metadata": {},
   "source": [
    "### Conclusion: -\n",
    "* From individual airline analysis, combined airline analysis and from Learning Curve its observed that for this data set **Logistic Regression is having a superior performance when compared to Multinomial Naive Bayes.**\n",
    "* Both the learners improve their accuracies with the addition of more training data."
   ]
  }
 ],
 "metadata": {
  "kernelspec": {
   "display_name": "Python 3",
   "language": "python",
   "name": "python3"
  },
  "language_info": {
   "codemirror_mode": {
    "name": "ipython",
    "version": 3
   },
   "file_extension": ".py",
   "mimetype": "text/x-python",
   "name": "python",
   "nbconvert_exporter": "python",
   "pygments_lexer": "ipython3",
   "version": "3.6.1"
  }
 },
 "nbformat": 4,
 "nbformat_minor": 2
}
